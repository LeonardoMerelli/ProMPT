{
  "nbformat": 4,
  "nbformat_minor": 0,
  "metadata": {
    "colab": {
      "provenance": []
    },
    "kernelspec": {
      "name": "python3",
      "display_name": "Python 3"
    },
    "language_info": {
      "name": "python"
    }
  },
  "cells": [
    {
      "cell_type": "code",
      "execution_count": null,
      "metadata": {
        "colab": {
          "base_uri": "https://localhost:8080/"
        },
        "id": "FeW_dNi8t4m4",
        "outputId": "99deed5a-4530-4fb8-8b54-8355f827bb47"
      },
      "outputs": [
        {
          "output_type": "stream",
          "name": "stdout",
          "text": [
            "Mounted at /content/drive\n"
          ]
        }
      ],
      "source": [
        "# Connecting to google drive.\n",
        "\n",
        "import os\n",
        "from google.colab import drive\n",
        "\n",
        "# Define the base path for your Google Drive.\n",
        "base_path = '/content/drive'\n",
        "\n",
        "# Define the specific folder path within your Google Drive.\n",
        "folder_path = 'MyDrive/Colab Notebooks/Crafting Tech'\n",
        "\n",
        "# Combine the base path and folder path to create the full mount path.\n",
        "full_project_path = os.path.join(base_path, folder_path)\n",
        "\n",
        "# Mount your drive.\n",
        "drive.mount(base_path, force_remount=True)"
      ]
    },
    {
      "cell_type": "code",
      "source": [
        "# Data handling and time parsing\n",
        "import pandas as pd\n",
        "from datetime import datetime\n",
        "import os\n",
        "\n",
        "# Define a function to identify government involvement.\n",
        "def is_government(side):\n",
        "  return side.str.contains(\"Government\", case=False, na=False)\n",
        "\n",
        "# Load the UCDP dyadic conflict dataset from the project directory.\n",
        "file_name = \"Dyadic_v24_1.csv\"\n",
        "file_path = os.path.join(full_project_path, file_name)\n",
        "df = pd.read_csv(file_path)\n",
        "\n",
        "# Convert the 'start_date2' column to datetime objects for timeline operations.\n",
        "df['start_date2'] = pd.to_datetime(df['start_date2'], errors='coerce')\n",
        "# Optionally convert 'start_date' if needed in future analysis\n",
        "# df['start_date'] = pd.to_datetime(df['start_date'], errors='coerce')\n",
        "\n",
        "# Get the most recent entry per dyad_id.\n",
        "latest_conflicts = df.sort_values('start_date2').groupby('dyad_id').tail(1)\n",
        "\n",
        "# Filter for ongoing conflicts by year.\n",
        "latest_year = 2022 # df['year'].max()\n",
        "ongoing_conflicts = latest_conflicts[latest_conflicts['year'] == latest_year]\n",
        "\n",
        "# No government filtering needed.\n",
        "result_conflicts = ongoing_conflicts.copy()\n",
        "\n",
        "# Build timeline for all conflicts.\n",
        "result_conflicts.loc[:, 'timeline'] = result_conflicts['start_date2'].dt.date.astype(str) + \" to ongoing\"\n",
        "\n",
        "# Select desired columns.\n",
        "result = result_conflicts[[\n",
        "    'location',\n",
        "    'territory_name',\n",
        "    'type_of_conflict',\n",
        "    'side_a',\n",
        "    'side_b',\n",
        "    'timeline',\n",
        "    'intensity_level'\n",
        "]]\n",
        "\n",
        "# Rename for clarity.\n",
        "result = result.rename(columns={'location': 'country'})\n",
        "\n",
        "# Save to CSV.\n",
        "output_file = \"ucdp_ongoing_conflicts.csv\"\n",
        "output_path = os.path.join(full_project_path, output_file)\n",
        "if os.path.exists(output_path):\n",
        "    print(f\"⚠️ File '{output_file}' already exists. Removing it.\")\n",
        "    os.remove(output_path)\n",
        "result.to_csv(output_path, mode='w', index=False)\n",
        "print(f\"✅ Data saved to '{output_file}'\")"
      ],
      "metadata": {
        "id": "9ZOGacf5t_hM"
      },
      "execution_count": null,
      "outputs": []
    }
  ]
}